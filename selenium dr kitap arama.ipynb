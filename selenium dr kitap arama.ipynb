{
 "cells": [
  {
   "cell_type": "code",
   "execution_count": 20,
   "id": "5379548a",
   "metadata": {},
   "outputs": [
    {
     "name": "stdout",
     "output_type": "stream",
     "text": [
      "Üç İstanbul\n",
      "Üç İstanbul\n",
      "Üç İstanbul - Midi Boy\n"
     ]
    }
   ],
   "source": [
    "from selenium import webdriver\n",
    "from selenium.webdriver.common.keys import Keys\n",
    "from selenium.webdriver.common.by import By\n",
    "from selenium.webdriver.support.ui import WebDriverWait\n",
    "from selenium.webdriver.support import expected_conditions as EC\n",
    "import time\n",
    "\n",
    "driver = webdriver.Chrome()\n",
    "url = \"https://www.dr.com.tr/\"\n",
    "driver.get(url)\n",
    "kitap = driver.find_element(By.XPATH,\"/html/body/div[2]/header/div[3]/div[2]/ul/li[1]/a\")\n",
    "kitap.click()\n",
    "\n",
    "ara=driver.find_element(By.CSS_SELECTOR,\"body > div.site-container > header > div.site-header-center.bg-c255.py-10 >div > div > div.search.col-12.col-lg-7.mt-10.mt-lg-0.dr-flex > div.search-wrapper.col-12.col-lg-10.p-0 > input\")\n",
    "ara.send_keys(\"üç istanbul\")\n",
    "time.sleep(2)\n",
    "ara.send_keys(Keys.ENTER)\n",
    "     \n",
    "#arama sonucunda çıkan ilk kitabın css kodu aşağıdaki gibi\n",
    "\"\"\"body > div.site-container > div.site-main > div > div > main > div.facet__products \n",
    "> div.facet__products-list.js-facet-product-list > div:nth-child(1) > div > div.prd-content \n",
    "> div.prd-content-wrapper > div.prd-infos > h3:nth-child(1) > a\"\"\"\n",
    "                        \n",
    "#benzer şekilde ikinci kitabında kodu aşağıdadır.\n",
    "\"\"\"body > div.site-container > div.site-main > div > div > main > div.facet__products \n",
    "> div.facet__products-list.js-facet-product-list > div:nth-child(2) > div > div.prd-content \n",
    "> div.prd-content-wrapper > div.prd-infos > h3:nth-child(1) > a\"\"\"\n",
    "\n",
    "#aradaki fark div:nth-child() kısmıdır burayı değişkene bağlarsak kitap listelerine erişebiliriz.\n",
    "                        \n",
    "for i in range(1,4):\n",
    "    kitaplar=driver.find_element(By.CSS_SELECTOR,\n",
    "\"\"\"body > div.site-container > div.site-main > div > div > main > div.facet__products > \n",
    "div.facet__products-list.js-facet-product-list > div:nth-child({}) > div > div.prd-content \n",
    "> div.prd-content-wrapper > div.prd-infos > h3:nth-child(1) > a\"\"\".format(i))\n",
    "    print(kitaplar.text)\n"
   ]
  },
  {
   "cell_type": "code",
   "execution_count": null,
   "id": "60f5dc94",
   "metadata": {},
   "outputs": [],
   "source": []
  }
 ],
 "metadata": {
  "kernelspec": {
   "display_name": "Python 3 (ipykernel)",
   "language": "python",
   "name": "python3"
  },
  "language_info": {
   "codemirror_mode": {
    "name": "ipython",
    "version": 3
   },
   "file_extension": ".py",
   "mimetype": "text/x-python",
   "name": "python",
   "nbconvert_exporter": "python",
   "pygments_lexer": "ipython3",
   "version": "3.10.9"
  }
 },
 "nbformat": 4,
 "nbformat_minor": 5
}
